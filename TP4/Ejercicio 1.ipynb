{
 "cells": [
  {
   "cell_type": "code",
   "execution_count": 4,
   "metadata": {
    "collapsed": false
   },
   "outputs": [],
   "source": [
    "import twitter\n",
    "import json\n",
    "from prettytable import PrettyTable\n",
    "from collections import Counter"
   ]
  },
  {
   "cell_type": "code",
   "execution_count": 5,
   "metadata": {
    "collapsed": false
   },
   "outputs": [],
   "source": [
    "##Lectura de claves de Twitter que estan definidos en un archivo JSON\n",
    "##sin trackeo de git\n",
    "\n",
    "with open('twitter_keys.json') as data_file:    \n",
    "    data = json.load(data_file)\n",
    "\n",
    "OAUTH_TOKEN = data[\"OAUTH_TOKEN\"]\n",
    "OAUTH_TOKEN_SECRET = data[\"OAUTH_TOKEN_SECRET\"]\n",
    "CONSUMER_KEY = data[\"CONSUMER_KEY\"]\n",
    "CONSUMER_SECRET = data[\"CONSUMER_SECRET\"]"
   ]
  },
  {
   "cell_type": "code",
   "execution_count": 6,
   "metadata": {
    "collapsed": true
   },
   "outputs": [],
   "source": [
    "auth = twitter.oauth.OAuth(OAUTH_TOKEN, OAUTH_TOKEN_SECRET,\n",
    "                           CONSUMER_KEY, CONSUMER_SECRET)\n",
    "\n",
    "twitter_api = twitter.Twitter(auth=auth)"
   ]
  },
  {
   "cell_type": "code",
   "execution_count": 7,
   "metadata": {
    "collapsed": true
   },
   "outputs": [],
   "source": [
    "#Se realiza la consulta a Twitter\n",
    "ARG_WOE_ID = 23424747\n",
    "arg_trends = twitter_api.trends.place(_id=ARG_WOE_ID)\n"
   ]
  },
  {
   "cell_type": "markdown",
   "metadata": {},
   "source": [
    "# Dumpear los tweets a disco"
   ]
  },
  {
   "cell_type": "code",
   "execution_count": 10,
   "metadata": {
    "collapsed": false
   },
   "outputs": [
    {
     "name": "stdout",
     "output_type": "stream",
     "text": [
      "<class 'twitter.api.TwitterListResponse'>\n"
     ]
    }
   ],
   "source": [
    "print type(arg_trends)"
   ]
  },
  {
   "cell_type": "code",
   "execution_count": 13,
   "metadata": {
    "collapsed": true
   },
   "outputs": [],
   "source": [
    "#Dumpear a disco\n",
    "with open(\"tweets-json-pto1.json\", \"w\") as outfile:\n",
    "    json.dump(arg_trends, outfile, indent=5)"
   ]
  },
  {
   "cell_type": "code",
   "execution_count": 24,
   "metadata": {
    "collapsed": false
   },
   "outputs": [
    {
     "name": "stdout",
     "output_type": "stream",
     "text": [
      "[{u'woeid': 23424747, u'name': u'Argentina'}]\n"
     ]
    }
   ],
   "source": [
    "#Obtener de disco\n",
    "with open('tweets-json-pto1.json', 'r') as f:\n",
    "     tweets_arg = json.load(f)\n",
    "\n",
    "print (tweets_arg)\n",
    "\n"
   ]
  }
 ],
 "metadata": {
  "kernelspec": {
   "display_name": "Python 2",
   "language": "python",
   "name": "python2"
  },
  "language_info": {
   "codemirror_mode": {
    "name": "ipython",
    "version": 2
   },
   "file_extension": ".py",
   "mimetype": "text/x-python",
   "name": "python",
   "nbconvert_exporter": "python",
   "pygments_lexer": "ipython2",
   "version": "2.7.6"
  }
 },
 "nbformat": 4,
 "nbformat_minor": 0
}
