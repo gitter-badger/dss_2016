{
 "cells": [
  {
   "cell_type": "code",
   "execution_count": null,
   "metadata": {
    "collapsed": false
   },
   "outputs": [],
   "source": [
    "import twitter\n",
    "import json\n",
    "import operator\n",
    "import tweepy\n",
    "from prettytable import PrettyTable\n",
    "from collections import Counter\n",
    "from IPython.display import Image, display"
   ]
  },
  {
   "cell_type": "code",
   "execution_count": null,
   "metadata": {
    "collapsed": false
   },
   "outputs": [],
   "source": [
    "##Lectura de claves de Twitter que estan definidos en un archivo JSON\n",
    "##sin trackeo de git\n",
    "\n",
    "with open('twitter_keys.json') as data_file:    \n",
    "    data = json.load(data_file)\n",
    "\n",
    "OAUTH_TOKEN = data[\"OAUTH_TOKEN\"]\n",
    "OAUTH_TOKEN_SECRET = data[\"OAUTH_TOKEN_SECRET\"]\n",
    "CONSUMER_KEY = data[\"CONSUMER_KEY\"]\n",
    "CONSUMER_SECRET = data[\"CONSUMER_SECRET\"]"
   ]
  },
  {
   "cell_type": "code",
   "execution_count": null,
   "metadata": {
    "collapsed": true
   },
   "outputs": [],
   "source": [
    "auth = twitter.oauth.OAuth(OAUTH_TOKEN, OAUTH_TOKEN_SECRET,\n",
    "                           CONSUMER_KEY, CONSUMER_SECRET)\n",
    "\n",
    "twitter_api = twitter.Twitter(auth=auth)"
   ]
  },
  {
   "cell_type": "code",
   "execution_count": null,
   "metadata": {
    "collapsed": true
   },
   "outputs": [],
   "source": [
    "#Se realiza la consulta a Twitter\n",
    "ARG_WOE_ID = 23424747\n",
    "arg_trends = twitter_api.trends.place(_id=ARG_WOE_ID)\n"
   ]
  },
  {
   "cell_type": "markdown",
   "metadata": {},
   "source": [
    "# Dumpear los tweets a disco"
   ]
  },
  {
   "cell_type": "code",
   "execution_count": null,
   "metadata": {
    "collapsed": true
   },
   "outputs": [],
   "source": [
    "#Dumpear a disco\n",
    "with open(\"tweets-json-pto1.json\", \"w\") as outfile:\n",
    "    json.dump(arg_trends, outfile, indent=5)"
   ]
  },
  {
   "cell_type": "code",
   "execution_count": null,
   "metadata": {
    "collapsed": false
   },
   "outputs": [],
   "source": [
    "#Obtener de disco\n",
    "with open('tweets-json-pto1.json', 'r') as f:\n",
    "     tweets_arg = json.load(f)"
   ]
  },
  {
   "cell_type": "markdown",
   "metadata": {},
   "source": [
    "### a. Los tres trends más RT del momento."
   ]
  },
  {
   "cell_type": "code",
   "execution_count": null,
   "metadata": {
    "collapsed": false
   },
   "outputs": [],
   "source": [
    "x = filter(lambda x: x['tweet_volume'] is not None, tweets_arg[0]['trends'])\n",
    "x = sorted(x, key=lambda x: x['tweet_volume'], reverse=True)\n",
    "three_trends = x[:3]\n",
    "print(json.dumps(three_trends, indent=1))"
   ]
  },
  {
   "cell_type": "markdown",
   "metadata": {},
   "source": [
    "#### Se obtienen 300 tweets con las tendencias seleccionadas anteriormente"
   ]
  },
  {
   "cell_type": "code",
   "execution_count": null,
   "metadata": {
    "collapsed": true
   },
   "outputs": [],
   "source": [
    "result_1 = twitter_api.search.tweets(q=three_trends[0]['name'] , count=100)\n",
    "result_2 = twitter_api.search.tweets(q=three_trends[1]['name'] , count=100)\n",
    "result_3 = twitter_api.search.tweets(q=three_trends[2]['name'] , count=100)"
   ]
  },
  {
   "cell_type": "markdown",
   "metadata": {},
   "source": [
    "## OBVIAR - SOLO ES PARA GUARDAR LOS DATOS Y EVITAR LAS MULTIPLES PETICIONES"
   ]
  },
  {
   "cell_type": "code",
   "execution_count": null,
   "metadata": {
    "collapsed": false
   },
   "outputs": [],
   "source": [
    "#Dumpear a disco\n",
    "with open(\"tweets-trend1.json\", \"w\") as outfile:\n",
    "    json.dump(result_1, outfile, indent=5)\n",
    "\n",
    "with open(\"tweets-trend2.json\", \"w\") as outfile:\n",
    "    json.dump(result_2, outfile, indent=5)\n",
    "\n",
    "with open(\"tweets-trend3.json\", \"w\") as outfile:\n",
    "    json.dump(result_3, outfile, indent=5)\n",
    "    \n",
    "with open('tweets-trend1.json', 'r') as f:\n",
    "     result_1 = json.load(f)\n",
    "\n",
    "with open('tweets-trend2.json', 'r') as f:\n",
    "     result_2 = json.load(f)\n",
    "\n",
    "with open('tweets-trend3.json', 'r') as f:\n",
    "     result_3 = json.load(f)"
   ]
  },
  {
   "cell_type": "code",
   "execution_count": null,
   "metadata": {
    "collapsed": false
   },
   "outputs": [],
   "source": [
    "# Se juntan todos los tweets en una sola lista\n",
    "totales = list(result_1['statuses'] + result_2['statuses'] + result_3['statuses'])"
   ]
  },
  {
   "cell_type": "markdown",
   "metadata": {},
   "source": [
    "### b. Listar nombres de usuarios que publicaron con los hashtag de los trends del punto anterior."
   ]
  },
  {
   "cell_type": "code",
   "execution_count": null,
   "metadata": {
    "collapsed": false
   },
   "outputs": [],
   "source": [
    "screen_name = map( lambda i: totales[i]['user']['screen_name'], range(len(totales)))\n",
    "list(screen_name)"
   ]
  },
  {
   "cell_type": "markdown",
   "metadata": {},
   "source": [
    "### c. Cuales son las cinco palabras más utilizadas en los tweets del primer item."
   ]
  },
  {
   "cell_type": "code",
   "execution_count": null,
   "metadata": {
    "collapsed": false
   },
   "outputs": [],
   "source": [
    "text = map( lambda i: totales[i]['text'], range(len(totales)))"
   ]
  },
  {
   "cell_type": "code",
   "execution_count": null,
   "metadata": {
    "collapsed": false
   },
   "outputs": [],
   "source": [
    "words = [ word for twt in text for word in twt.split() ]\n",
    "c = Counter(words)\n",
    "#print c.most_common()\n",
    "\n",
    "pt = PrettyTable(field_names=['Words', 'Count'])\n",
    "list(map(lambda r: pt.add_row(r), c.most_common()[:5]))\n",
    "print(pt)"
   ]
  },
  {
   "cell_type": "markdown",
   "metadata": {},
   "source": [
    "### d. Listar los primeros 10 usuarios con mayor cantidad de seguidores"
   ]
  },
  {
   "cell_type": "code",
   "execution_count": null,
   "metadata": {
    "collapsed": false
   },
   "outputs": [],
   "source": [
    "followers_count = list(map( lambda i: totales[i]['user']['followers_count'], range(len(totales))))\n",
    "users = list(map( lambda i: totales[i]['user']['screen_name'], range(len(totales))))\n",
    "data = dict(zip(users, followers_count))\n",
    "data = sorted(data.items(), key=operator.itemgetter(1), reverse=True)\n",
    "\n",
    "table = PrettyTable(field_names=[\"User\", \"Followers\"])\n",
    "list(map(lambda x: table.add_row(x), data[:10]))\n",
    "print(table)"
   ]
  },
  {
   "cell_type": "markdown",
   "metadata": {},
   "source": [
    "### e. Listar la ubicación (o en su defecto time-zone) del tweet"
   ]
  },
  {
   "cell_type": "code",
   "execution_count": null,
   "metadata": {
    "collapsed": false
   },
   "outputs": [],
   "source": [
    "time_zones = map( lambda i: totales[i]['user']['time_zone'], range(len(totales)))\n",
    "time_zones = filter(lambda x:x is not None, time_zones)\n",
    "list(time_zones)"
   ]
  },
  {
   "cell_type": "markdown",
   "metadata": {},
   "source": [
    "### f. Listar los cinco tweets más populares.\n",
    "Consideramos que un tweet popular es el que mas retweets tiene"
   ]
  },
  {
   "cell_type": "code",
   "execution_count": null,
   "metadata": {
    "collapsed": false
   },
   "outputs": [],
   "source": [
    "tweet = map( lambda i: totales[i], range(len(totales)))\n",
    "tweet = sorted(tweet, key=lambda x: x['retweet_count'], reverse=True)[:5]\n",
    "tweet = [ x['id'] for x in tweet]\n",
    "\n",
    "favorite = list(map( lambda i: totales[i]['retweet_count'], range(len(totales))))\n",
    "favorite = sorted(favorite, reverse=True)[:5]"
   ]
  },
  {
   "cell_type": "code",
   "execution_count": null,
   "metadata": {
    "collapsed": false
   },
   "outputs": [],
   "source": [
    "table = PrettyTable()\n",
    "table.add_column('Id_Tweet', tweet)\n",
    "table.add_column('Retweet_Count', favorite)\n",
    "print(table)"
   ]
  },
  {
   "cell_type": "markdown",
   "metadata": {},
   "source": [
    "### g. Listar a los seguidores del autor del tweet m ́as popular"
   ]
  },
  {
   "cell_type": "code",
   "execution_count": null,
   "metadata": {
    "collapsed": true
   },
   "outputs": [],
   "source": [
    "tweet = map( lambda i: totales[i], range(len(totales)))\n",
    "tweet = sorted(tweet, key=lambda x: x['retweet_count'], reverse=True)[0]\n",
    "id_user = tweet['user']['id']"
   ]
  },
  {
   "cell_type": "code",
   "execution_count": null,
   "metadata": {
    "collapsed": false
   },
   "outputs": [],
   "source": [
    "auth = tweepy.OAuthHandler(CONSUMER_KEY, CONSUMER_SECRET)\n",
    "auth.set_access_token(OAUTH_TOKEN, OAUTH_TOKEN_SECRET)\n",
    "api = tweepy.API(auth)"
   ]
  },
  {
   "cell_type": "code",
   "execution_count": null,
   "metadata": {
    "collapsed": true
   },
   "outputs": [],
   "source": [
    "users = api.followers(id_user)"
   ]
  },
  {
   "cell_type": "code",
   "execution_count": null,
   "metadata": {
    "collapsed": false
   },
   "outputs": [],
   "source": [
    "for user in users:\n",
    "    print(\"Name: \" + user.name)\n",
    "    display(Image(url=user.profile_image_url))\n",
    "    print(\"-------------------------------------\")"
   ]
  }
 ],
 "metadata": {
  "kernelspec": {
   "display_name": "Python 3",
   "language": "python",
   "name": "python3"
  },
  "language_info": {
   "codemirror_mode": {
    "name": "ipython",
    "version": 3
   },
   "file_extension": ".py",
   "mimetype": "text/x-python",
   "name": "python",
   "nbconvert_exporter": "python",
   "pygments_lexer": "ipython3",
   "version": "3.4.3"
  }
 },
 "nbformat": 4,
 "nbformat_minor": 0
}
