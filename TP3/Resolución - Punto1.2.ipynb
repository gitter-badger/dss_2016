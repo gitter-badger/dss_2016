{
 "cells": [
  {
   "cell_type": "code",
   "execution_count": null,
   "metadata": {
    "collapsed": false
   },
   "outputs": [],
   "source": [
    "import pandas as pd\n",
    "import numpy as np\n",
    "import psycopg2\n",
    "from sqlalchemy import MetaData, create_engine, Table, Column, ForeignKey\n",
    "from sqlalchemy import Integer, String, Date, Float, Time\n",
    "from sqlalchemy import exc"
   ]
  },
  {
   "cell_type": "code",
   "execution_count": null,
   "metadata": {
    "collapsed": true
   },
   "outputs": [],
   "source": [
    "#Constantes\n",
    "DB = \"dbtest\"\n",
    "HOST = \"localhost\"\n",
    "PORT = \"5432\"\n",
    "PASS = \"password\"\n",
    "USER = \"postgres\""
   ]
  },
  {
   "cell_type": "markdown",
   "metadata": {},
   "source": [
    "# Diagrama de DW  - Inmobiliaria - Esquema estrella"
   ]
  },
  {
   "cell_type": "markdown",
   "metadata": {},
   "source": [
    "![Diagrama](img/Inmobiliaria.png \"Diagrama\")"
   ]
  },
  {
   "cell_type": "code",
   "execution_count": null,
   "metadata": {
    "collapsed": false
   },
   "outputs": [],
   "source": [
    "url_connect = USER + ':' + PASS + '@' + HOST+ ':' + PORT\n",
    "\n",
    "try:\n",
    "    engine = create_engine('postgresql://' + url_connect)\n",
    "    conn = engine.connect()\n",
    "    conn.execute(\"commit\")\n",
    "    conn.execute(\"create database \" + DB)\n",
    "    conn.close()\n",
    "except Exception:\n",
    "    print(\"La Base de Datos ya existe\")"
   ]
  },
  {
   "cell_type": "code",
   "execution_count": null,
   "metadata": {
    "collapsed": true
   },
   "outputs": [],
   "source": [
    "engine = create_engine('postgresql://' + url_connect + \"/\" + DB)"
   ]
  },
  {
   "cell_type": "code",
   "execution_count": null,
   "metadata": {
    "collapsed": false
   },
   "outputs": [],
   "source": [
    "metadata = MetaData()\n",
    "\n",
    "\n",
    "estate = Table('estate', metadata,\n",
    "              Column('id', Integer, primary_key=True),\n",
    "              Column('category', String),\n",
    "              Column('area', Float, nullable=False),\n",
    "              Column('city', String, nullable=False),\n",
    "              Column('province', String, nullable=False),\n",
    "              Column('rooms', Integer, nullable=False),\n",
    "              Column('bedrooms', Integer, nullable=False),\n",
    "              Column('garage', Integer),\n",
    "              Column('meters', Float, nullable=False))\n",
    "\n",
    "customer = Table('customer', metadata,\n",
    "                Column('id', Integer, primary_key=True),\n",
    "                Column('name', String, nullable=False),\n",
    "                Column('surname', String, nullable=False),\n",
    "                Column('budget', Float),\n",
    "                Column('address', String),\n",
    "                Column('city', String),\n",
    "                Column('phone', String))\n",
    "\n",
    "visit = Table('visit', metadata, \n",
    "             Column('id', Integer, primary_key=True),\n",
    "             Column('duration', Integer, nullable=False))\n",
    "\n",
    "sale = Table('sale', metadata, \n",
    "            Column('id', Integer, primary_key=True),\n",
    "            Column('agreed_price', Float, nullable=False),\n",
    "            Column('status', String, nullable=False))\n",
    "\n",
    "fact = Table('fact', metadata,\n",
    "            Column('id', Integer, primary_key=True),\n",
    "            Column('id_estate', Integer, ForeignKey('estate.id')),\n",
    "            Column('id_cust', Integer, ForeignKey('customer.id')),\n",
    "            Column('date', Date, nullable=False),\n",
    "            Column('id_visit', Integer, ForeignKey('visit.id'), nullable=True),\n",
    "            Column('id_sale', Integer, ForeignKey('sale.id'), nullable=True))\n"
   ]
  },
  {
   "cell_type": "code",
   "execution_count": null,
   "metadata": {
    "collapsed": false
   },
   "outputs": [],
   "source": [
    "metadata.create_all(engine)"
   ]
  },
  {
   "cell_type": "markdown",
   "metadata": {
    "collapsed": true
   },
   "source": [
    "Carga de Datos\n",
    "--------------"
   ]
  },
  {
   "cell_type": "code",
   "execution_count": null,
   "metadata": {
    "collapsed": false
   },
   "outputs": [],
   "source": [
    "try:\n",
    "    df_estate = pd.read_csv('dataTp3/Inmobilaria/Estate.csv')\n",
    "    df_estate.to_sql('estate', engine, index=None, if_exists=\"append\")\n",
    "    \n",
    "except exc.IntegrityError:\n",
    "    print(\"Los datos de Estate ya han sido cargados en la BD\")"
   ]
  },
  {
   "cell_type": "code",
   "execution_count": null,
   "metadata": {
    "collapsed": false
   },
   "outputs": [],
   "source": [
    "try:\n",
    "    df_customer = pd.read_csv('dataTp3/Inmobilaria/Customer.csv')\n",
    "    df_customer.to_sql('customer', engine, index=None, if_exists=\"append\")\n",
    "except exc.IntegrityError:\n",
    "    print(\"Los datos de Customer ya han sido cargados en la BD\")  "
   ]
  },
  {
   "cell_type": "code",
   "execution_count": null,
   "metadata": {
    "collapsed": false
   },
   "outputs": [],
   "source": [
    "try:\n",
    "    df_visit = pd.read_csv('dataTp3/Inmobilaria/Visit.csv')\n",
    "    df_visit.to_sql('visit', engine, index=None, if_exists=\"append\")\n",
    "except exc.IntegrityError:\n",
    "    print(\"Los datos de Visit ya han sido cargados en la BD\")"
   ]
  },
  {
   "cell_type": "code",
   "execution_count": null,
   "metadata": {
    "collapsed": false
   },
   "outputs": [],
   "source": [
    "try:\n",
    "    df_sale = pd.read_csv('dataTp3/Inmobilaria/Sale.csv')\n",
    "    df_sale.to_sql('sale', engine, index=None, if_exists=\"append\")\n",
    "except exc.IntegrityError:\n",
    "    print(\"Los datos de Sale ya han sido cargados en la BD\")"
   ]
  },
  {
   "cell_type": "code",
   "execution_count": null,
   "metadata": {
    "collapsed": false
   },
   "outputs": [],
   "source": [
    "try:\n",
    "    df_fact = pd.read_csv('dataTp3/Inmobilaria/Fact.csv')\n",
    "    df_fact.to_sql('fact', engine, index=None, if_exists=\"append\")\n",
    "except exc.IntegrityError:\n",
    "    print(\"Los datos de Fact ya han sido cargados en la BD\")"
   ]
  },
  {
   "cell_type": "markdown",
   "metadata": {},
   "source": [
    "# Consultas"
   ]
  },
  {
   "cell_type": "markdown",
   "metadata": {},
   "source": [
    "## Consulta 1:\n",
    "\n",
    "¿Qué tipo de propiedad se vendió por el precio más alto con respecto a cada\n",
    "ciudad y meses?\n"
   ]
  },
  {
   "cell_type": "code",
   "execution_count": null,
   "metadata": {
    "collapsed": false
   },
   "outputs": [],
   "source": [
    "string_sql = \"\"\"select city, date_part('month',\"date\") as mes, category, MAX(agreed_price) as Price_Max from fact\n",
    "                inner join estate on (id_estate = estate.id)\n",
    "                inner join sale on (id_sale = sale.id)\n",
    "                where id_sale is not NULL\n",
    "                group by city, category, mes\n",
    "                order by city ASC; \"\"\"\n",
    "\n",
    "df_propiedades = pd.read_sql_query(string_sql,engine.connect()) \n",
    "df_propiedades"
   ]
  },
  {
   "cell_type": "markdown",
   "metadata": {},
   "source": [
    "# Consulta 2:\n",
    "¿Quén ha comprado un piso con el precio más alto con respecto a cada mes?"
   ]
  },
  {
   "cell_type": "code",
   "execution_count": null,
   "metadata": {
    "collapsed": false
   },
   "outputs": [],
   "source": [
    "string_sql = \"\"\"select mes, name, surname, agreed_price from (\n",
    "                    select mes, name, surname, agreed_price, rank() over particion_por_mes\n",
    "                        from ( select date_part('month',\"date\") as mes, \"name\", surname, category, agreed_price\n",
    "                            from fact inner join estate on (id_estate = estate.id)\n",
    "                            inner join sale on (id_sale = sale.id) \n",
    "                            inner join customer on (id_cust = customer.id)\n",
    "                        where id_sale is not NULL and category = 'piso'\n",
    "                        order by agreed_price DESC) as pepe\n",
    "                        WINDOW particion_por_mes AS (partition by mes order by agreed_price DESC)\n",
    "                ) as sub_query\n",
    "                WHERE rank = 1; \"\"\"\n",
    "\n",
    "df_clientes_pisos = pd.read_sql_query(string_sql,engine.connect()) \n",
    "df_clientes_pisos\n"
   ]
  },
  {
   "cell_type": "markdown",
   "metadata": {},
   "source": [
    "## Consulta 3:\n",
    "¿Cuál es la duración media de visitas en las propiedades de cada categoría?"
   ]
  },
  {
   "cell_type": "code",
   "execution_count": null,
   "metadata": {
    "collapsed": false
   },
   "outputs": [],
   "source": [
    "string_sql = \"\"\" select distinct category, tiempo_promedio\n",
    "                 from (\n",
    "                        select category, avg(duration)\n",
    "                        over particion_por_categoria as tiempo_promedio\n",
    "                        from (\n",
    "                                fact inner join estate on (id_estate = estate.id) \n",
    "                                inner join visit on (id_visit = visit.id) )\n",
    "                        WINDOW particion_por_categoria AS (partition by category)\n",
    "                 ) as promedio; \"\"\"\n",
    "df_mayor_duracion = pd.read_sql_query(string_sql,engine.connect()) \n",
    "df_mayor_duracion\n",
    "\n",
    "##Tiempo promedio medido en horas"
   ]
  },
  {
   "cell_type": "code",
   "execution_count": null,
   "metadata": {
    "collapsed": true
   },
   "outputs": [],
   "source": []
  }
 ],
 "metadata": {
  "kernelspec": {
   "display_name": "Python 3",
   "language": "python",
   "name": "python3"
  },
  "language_info": {
   "codemirror_mode": {
    "name": "ipython",
    "version": 3
   },
   "file_extension": ".py",
   "mimetype": "text/x-python",
   "name": "python",
   "nbconvert_exporter": "python",
   "pygments_lexer": "ipython3",
   "version": "3.4.3"
  }
 },
 "nbformat": 4,
 "nbformat_minor": 0
}
