{
 "cells": [
  {
   "cell_type": "code",
   "execution_count": null,
   "metadata": {
    "collapsed": true
   },
   "outputs": [],
   "source": [
    "import pandas as pd\n",
    "from psycopg2 import connect\n",
    "from psycopg2.extensions import ISOLATION_LEVEL_AUTOCOMMIT\n",
    "from sqlalchemy import MetaData, types\n",
    "from sqlalchemy import create_engine\n",
    "from sqlalchemy import Table, Column"
   ]
  },
  {
   "cell_type": "code",
   "execution_count": null,
   "metadata": {
    "collapsed": false
   },
   "outputs": [],
   "source": [
    "#Constantes\n",
    "DB = \"tp33\"\n",
    "HOST = \"localhost\"\n",
    "PASS = \"password\"\n",
    "USER = \"postgres\"\n"
   ]
  },
  {
   "cell_type": "code",
   "execution_count": null,
   "metadata": {
    "collapsed": true
   },
   "outputs": [],
   "source": [
    "#Creación de la Base de Datos\n",
    "\n",
    "con = None\n",
    "con = connect(user=USER,host=HOST,password=PASS)\n",
    "\n",
    "con.set_isolation_level(ISOLATION_LEVEL_AUTOCOMMIT)\n",
    "cur = con.cursor()\n",
    "cur.execute('CREATE DATABASE '+ DB)\n",
    "cur.close()\n",
    "con.close()"
   ]
  },
  {
   "cell_type": "code",
   "execution_count": null,
   "metadata": {
    "collapsed": true
   },
   "outputs": [],
   "source": [
    "engine = create_engine('postgresql://'+USER+':'+PASS+'@'+HOST+':5432/'+DB)\n",
    "\n",
    "metadata = MetaData()\n",
    "\n",
    "customer = Table('alumno', metadata,\n",
    "    Column('id', types.Integer, primary_key=True),         \n",
    "    Column('nombre', types.String(length=50)),\n",
    "    Column('apellido', types.String(length=50)),\n",
    "    Column('email', types.String(length=50)),\n",
    "    Column('sexo', types.String(length=50)),\n",
    "    Column('direccion', types.String(length=50)),\n",
    "    Column('pais', types.String(length=50)),\n",
    "    Column('fecha_ingreso', types.Date), \n",
    "    Column('fecha_nacimiento', types.Date)\n",
    " )\n",
    "\n",
    "metadata.create_all(engine)"
   ]
  },
  {
   "cell_type": "code",
   "execution_count": null,
   "metadata": {
    "collapsed": false
   },
   "outputs": [],
   "source": [
    "#Carga de la BD a traves de un .json\n",
    "df_json = pd.read_json(\"dataTp3/dataJSON.json\")\n",
    "alumno = df_json.to_sql('alumno', engine, index=None,if_exists='append')\n"
   ]
  },
  {
   "cell_type": "code",
   "execution_count": null,
   "metadata": {
    "collapsed": false
   },
   "outputs": [],
   "source": [
    "#Lectura de datos\n",
    "df_database = pd.read_sql_table('alumno',engine)\n",
    "df_json = pd.read_json(\"dataTp3/dataJSON.json\")\n",
    "df_csv = pd.read_csv(\"dataTp3/dataCSV.csv\")"
   ]
  },
  {
   "cell_type": "markdown",
   "metadata": {},
   "source": [
    "CONSULTAS CON JOIN LEFT, OUTER, INNER\n",
    "----------------------------------------"
   ]
  },
  {
   "cell_type": "code",
   "execution_count": null,
   "metadata": {
    "collapsed": false
   },
   "outputs": [],
   "source": [
    "#Seteo de indice para cada DF\n",
    "df_database.set_index(['id'])\n",
    "df_json.set_index(['id'])\n",
    "df_csv.set_index(['id'])\n",
    "\n",
    "#Slicing de las columnas de los DF\n",
    "df_database = df_database[[\"nombre\",\"apellido\"]]\n",
    "df_json = df_json[[\"email\", \"sexo\", \"direccion\"]]\n",
    "df_csv = df_csv[[\"pais\", \"fecha_ingreso\", \"fecha_nacimiento\"]]"
   ]
  },
  {
   "cell_type": "code",
   "execution_count": null,
   "metadata": {
    "collapsed": false
   },
   "outputs": [],
   "source": [
    "resul_left = df_database.join(df_json)\n",
    "resul_left = resul_left.join(df_csv)\n",
    "resul_left"
   ]
  },
  {
   "cell_type": "code",
   "execution_count": null,
   "metadata": {
    "collapsed": false
   },
   "outputs": [],
   "source": [
    "resul_outer = df_database.join(df_json, how=\"outer\")\n",
    "resul_outer = resul_outer.join(df_csv, how=\"outer\")\n",
    "resul_outer"
   ]
  },
  {
   "cell_type": "code",
   "execution_count": null,
   "metadata": {
    "collapsed": false
   },
   "outputs": [],
   "source": [
    "resul_inner = df_database.head().join(df_json, how=\"inner\")\n",
    "resul_inner = resul_inner.join(df_csv,how=\"inner\")\n",
    "resul_inner"
   ]
  },
  {
   "cell_type": "code",
   "execution_count": null,
   "metadata": {
    "collapsed": true
   },
   "outputs": [],
   "source": [
    "resul_left.to_sql('join_left', engine)"
   ]
  },
  {
   "cell_type": "markdown",
   "metadata": {
    "collapsed": true
   },
   "source": [
    "MERGE\n",
    "====\n",
    "\n"
   ]
  },
  {
   "cell_type": "code",
   "execution_count": null,
   "metadata": {
    "collapsed": false
   },
   "outputs": [],
   "source": [
    "resul = pd.merge(df_csv, df_json, how=\"inner\", on=[\"pais\",\"id\"])\n",
    "resul = pd.merge(resul, df_database, how=\"inner\", on=[\"pais\",\"id\"])\n",
    "resul.to_sql('merge', engine)"
   ]
  },
  {
   "cell_type": "markdown",
   "metadata": {},
   "source": [
    "CONCAT\n",
    "====\n",
    "\n",
    "\n",
    "\n"
   ]
  },
  {
   "cell_type": "code",
   "execution_count": null,
   "metadata": {
    "collapsed": false
   },
   "outputs": [],
   "source": [
    "result = pd.concat([df_json,df_csv,df_temp],keys=[\"json\",\"csv\",\"sql\"])\n",
    "result.ix[\"csv\"]\n",
    "result.ix[\"json\"]\n",
    "result.ix[\"sql\"]\n",
    "result.to_sql('concat', engine)"
   ]
  },
  {
   "cell_type": "markdown",
   "metadata": {
    "collapsed": true
   },
   "source": [
    "APPEND\n",
    "====="
   ]
  },
  {
   "cell_type": "code",
   "execution_count": null,
   "metadata": {
    "collapsed": false
   },
   "outputs": [],
   "source": [
    "result = df_json.append(df_csv, ignore_index=True)\n",
    "result = result.append(df_database,ignore_index=True)\n",
    "result.to_sql('append', engine)"
   ]
  }
 ],
 "metadata": {
  "kernelspec": {
   "display_name": "Python 2",
   "language": "python",
   "name": "python2"
  },
  "language_info": {
   "codemirror_mode": {
    "name": "ipython",
    "version": 2
   },
   "file_extension": ".py",
   "mimetype": "text/x-python",
   "name": "python",
   "nbconvert_exporter": "python",
   "pygments_lexer": "ipython2",
   "version": "2.7.6"
  }
 },
 "nbformat": 4,
 "nbformat_minor": 0
}
