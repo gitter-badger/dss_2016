{
 "cells": [
  {
   "cell_type": "code",
   "execution_count": null,
   "metadata": {
    "collapsed": true
   },
   "outputs": [],
   "source": [
    "#Imports generales\n",
    "import time\n",
    "import dateutil.parser as dateparser\n",
    "from datetime import date,timedelta\n",
    "\n",
    "import pandas as pd\n",
    "import numpy as np\n",
    "from sqlalchemy import create_engine, exc\n",
    "from sqlalchemy import Table, Column, ForeignKey, MetaData, types\n",
    "from sqlalchemy.sql import select,and_, or_, not_,func, desc"
   ]
  },
  {
   "cell_type": "code",
   "execution_count": null,
   "metadata": {
    "collapsed": true
   },
   "outputs": [],
   "source": [
    "#Constantes\n",
    "DB = \"tp3\"\n",
    "HOST = \"localhost\"\n",
    "PASS = \"password\"\n",
    "USER = \"postgres\"\n",
    "PORT = '5432'"
   ]
  },
  {
   "cell_type": "markdown",
   "metadata": {
    "collapsed": true
   },
   "source": [
    "# Diagrama DW - Vinoteca - Esquema copo de nieve"
   ]
  },
  {
   "cell_type": "markdown",
   "metadata": {},
   "source": [
    "![Diagrama](img/Vinoteca.jpg \"Diagrama\")"
   ]
  },
  {
   "cell_type": "markdown",
   "metadata": {},
   "source": [
    "##### Dimensiones:\n",
    "    class, time, customer\n",
    "##### Hechos:\n",
    "    ventas, order\n",
    "##### Medidas para 'ventas':\n",
    "    Precio_orden\n",
    "##### Medidas para 'order':\n",
    "    nrBottles, nrCases"
   ]
  },
  {
   "cell_type": "markdown",
   "metadata": {},
   "source": [
    "#### Crear el \"engine\" pasando la dirección de la db"
   ]
  },
  {
   "cell_type": "code",
   "execution_count": null,
   "metadata": {
    "collapsed": false
   },
   "outputs": [],
   "source": [
    "url_connect = USER + ':' + PASS + '@' + HOST+ ':' + PORT\n",
    "\n",
    "try:\n",
    "    engine = create_engine('postgresql://' + url_connect)\n",
    "    conn = engine.connect()\n",
    "    conn.execute(\"commit\")\n",
    "    conn.execute(\"create database \" + DB)\n",
    "    conn.close()\n",
    "except Exception:\n",
    "    print(\"La Base de Datos ya existe\")"
   ]
  },
  {
   "cell_type": "code",
   "execution_count": null,
   "metadata": {
    "collapsed": false
   },
   "outputs": [],
   "source": [
    "engine = create_engine('postgresql://'+USER+':'+PASS+'@'+HOST+':'+PORT+'/'+DB)\n",
    "engine"
   ]
  },
  {
   "cell_type": "code",
   "execution_count": null,
   "metadata": {
    "collapsed": false
   },
   "outputs": [],
   "source": [
    "metadata = MetaData()"
   ]
  },
  {
   "cell_type": "code",
   "execution_count": null,
   "metadata": {
    "collapsed": false
   },
   "outputs": [],
   "source": [
    "#TIME (TimeStamp, Date, Year,)\n",
    "time = Table('time', metadata,\n",
    "    Column('Id', types.Integer, primary_key=True),                     \n",
    "    Column('TimeStamp', types.TIMESTAMP),         \n",
    "    Column('Year', types.Integer, primary_key=False),\n",
    "    Column('Date', types.Date, nullable=False),\n",
    " )\n",
    "\n",
    "#CLASS (Code, Name, Region)\n",
    "tipo_vino = Table('class', metadata,\n",
    "    Column('Code', types.Integer, primary_key=True),         \n",
    "    Column('Name', types.String(length=50)),\n",
    "    Column('Region', types.String(length=50)),\n",
    " )\n",
    "\n",
    "#CUSTOMER (Code, Name, Address, Phone, BDay, Gender)\n",
    "customer = Table('customer', metadata,\n",
    "    Column('Code', types.Integer, primary_key=True),         \n",
    "    Column('Name', types.String(length=50)),\n",
    "    Column('Address', types.String(length=50)),\n",
    "    Column('Phone', types.String(length=50)),\n",
    "    Column('BDay', types.String(length=50)),\n",
    "    # Hombre = True, Mujer = False\n",
    "    Column('Gender', types.Boolean),\n",
    "\n",
    " )\n",
    "\n",
    "#WINE (Code, Name, Type, Vintage, BottlePrice, CasePrice, Class)\n",
    "wine = Table('wine', metadata,\n",
    "    Column('Code', types.Integer, primary_key=True),         \n",
    "    Column('Name', types.String(length=50)),\n",
    "    Column('Type', types.String(length=50)),\n",
    "    Column('Vintage', types.Integer),\n",
    "    Column('BottlePrice', types.Float),\n",
    "    Column('CasePrice', types.Float),\n",
    "    Column('Class',types.Integer, ForeignKey(\"class.Code\")),                  \n",
    " )\n",
    "\n",
    "#ORDER (Code,Customer, Wine, Time, nrBottles, nrCases)\n",
    "orden = Table('order', metadata,\n",
    "    Column('Code',types.Integer, primary_key=True),         \n",
    "    Column('Id_customer',types.Integer, ForeignKey(\"customer.Code\")),         \n",
    "    Column('Id_wine',  types.Integer, ForeignKey(\"wine.Code\") ),\n",
    "    Column('Id_time',  types.Integer,ForeignKey(\"time.Id\")),\n",
    "    Column('nrBottles', types.Integer),\n",
    "    Column('nrCases', types.Integer),          \n",
    " )\n",
    "\n",
    "#VENTAS (ID_WINE,ID_ORDER,PRECIO_ORDEN)\n",
    "ventas = Table('ventas', metadata,\n",
    "    Column('Id_venta', types.Integer, primary_key=True),         \n",
    "    Column('Id_order', types.Integer,ForeignKey(\"order.Code\")),\n",
    "    Column('Id_wine', types.Integer, ForeignKey(\"wine.Code\")),\n",
    "    Column('Precio_orden', types.Float)\n",
    " )\n",
    "\n"
   ]
  },
  {
   "cell_type": "code",
   "execution_count": null,
   "metadata": {
    "collapsed": false
   },
   "outputs": [],
   "source": [
    "metadata.create_all(engine)"
   ]
  },
  {
   "cell_type": "code",
   "execution_count": null,
   "metadata": {
    "collapsed": false
   },
   "outputs": [],
   "source": [
    "#Extraer el año del date para que coincida con campo Year\n",
    "df_time = pd.read_csv(\"dataTp3/Time.csv\")\n",
    "df_time[\"Year\"] = df_time[\"TimeStamp\"].apply(lambda x: dateparser.parse(x).year)\n",
    "df_time[\"Date\"] = df_time[\"TimeStamp\"].apply(lambda x: dateparser.parse(x).date())\n",
    "\n",
    "try:    \n",
    "    #Cargar dataframes en postgresql\n",
    "    time = df_time.to_sql('time', engine, index=None,if_exists='append')\n",
    "except exc.IntegrityError:\n",
    "    print (\"Los datos ya estan cargados\")"
   ]
  },
  {
   "cell_type": "code",
   "execution_count": null,
   "metadata": {
    "collapsed": false
   },
   "outputs": [],
   "source": [
    "df_customer= pd.read_csv(\"dataTp3/Customer.csv\")\n",
    "df_class= pd.read_csv(\"dataTp3/Class.csv\")\n",
    "df_wine= pd.read_csv(\"dataTp3/Wine.csv\")\n",
    "df_order = pd.read_csv(\"dataTp3/Order.csv\")\n",
    "\n",
    "try:\n",
    "    customer = df_customer.to_sql('customer', engine, index=None,if_exists='append')\n",
    "    classes = df_class.to_sql('class', engine, index=None,if_exists='append')\n",
    "    wine = df_wine.to_sql('wine', engine, index=None,if_exists='append') \n",
    "    order = df_order.to_sql('order', engine, index=None,if_exists='append') \n",
    "except exc.IntegrityError:\n",
    "    print (\"Los datos ya estan cargados\")"
   ]
  },
  {
   "cell_type": "code",
   "execution_count": null,
   "metadata": {
    "collapsed": false
   },
   "outputs": [],
   "source": [
    "df_ventas= pd.read_csv(\"dataTp3/Ventas.csv\")\n",
    "df_ventas[\"Precio_orden\"] = np.random.random(1000)\n",
    "df_ventas[\"Precio_orden\"] = df_ventas[\"Precio_orden\"].apply(lambda x: round(x*1000,2))"
   ]
  },
  {
   "cell_type": "code",
   "execution_count": null,
   "metadata": {
    "collapsed": false
   },
   "outputs": [],
   "source": [
    "#Establece el id_wine que se encuentra  asociado a una orden.\n",
    "\n",
    "df_order.pop(\"Id_customer\")\n",
    "df_order = df_order.drop(df_order.columns[2:], axis=1)\n",
    "df_order.set_index([\"Code\"])\n",
    "df_ventas.set_index([\"Id_order\"])\n",
    "temp = df_order.join(df_ventas[\"Id_order\"], how=\"inner\")\n",
    "df_ventas[\"Id_wine\"] = temp[\"Id_wine\"]"
   ]
  },
  {
   "cell_type": "code",
   "execution_count": null,
   "metadata": {
    "collapsed": true
   },
   "outputs": [],
   "source": [
    "try:\n",
    "    ventas = df_ventas.to_sql('ventas', engine, index=None,if_exists='append')\n",
    "except exc.IntegrityError:\n",
    "    print (\"Los datos ya estan cargados\")"
   ]
  },
  {
   "cell_type": "code",
   "execution_count": null,
   "metadata": {
    "collapsed": false
   },
   "outputs": [],
   "source": [
    "\n",
    "def calcular_porcentaje_ventas(engine,anio):\n",
    "    conn = engine.connect()\n",
    "    metadata = MetaData()\n",
    "    metadata.reflect(bind=conn)\n",
    "    ventas=metadata.tables.get(\"ventas\")\n",
    "    orden=metadata.tables.get(\"order\")\n",
    "    wine=metadata.tables.get(\"wine\")\n",
    "    time=metadata.tables.get(\"time\")\n",
    "    clase=metadata.tables.get(\"class\")\n",
    "    \n",
    "    \n",
    "    \n",
    "    consulta = select([clase.c.Code,clase.c.Name,func.count(clase.c.Code).label('Cantidad de ventas segun tipo')]).\\\n",
    "                            where( and_(ventas.c.Id_order == orden.c.Code,\n",
    "                                                                    orden.c.Id_time == time.c.Id,\n",
    "                                                                       time.c.Year == anio,\n",
    "                                        ventas.c.Id_wine == wine.c.Code,\n",
    "                                        wine.c.Class == clase.c.Code\n",
    "                                       )).group_by(clase.c.Code,clase.c.Name)\n",
    "        \n",
    "    \n",
    "    \n",
    "    result = conn.execute(consulta).fetchall()\n",
    "    #Se transforma en un data frame el resultado de la consulta.\n",
    "    df = pd.DataFrame(result)\n",
    "    total_tipos = sum(df[2])\n",
    "    df[\"Porcentaje\"] = df[2].apply(lambda x: (x/total_tipos)*100)\n",
    "    print(df)\n",
    "\n",
    "calcular_porcentaje_ventas(engine,2005)"
   ]
  },
  {
   "cell_type": "code",
   "execution_count": null,
   "metadata": {
    "collapsed": false
   },
   "outputs": [],
   "source": [
    "#Temporada que los vinos de tipo X se venden mas?\n",
    "\n",
    "def buscar_vino_en_temporada(nombre_tipo_vino=\"Anderson\"):\n",
    "    conn = engine.connect()\n",
    "    metadata = MetaData()\n",
    "    metadata.reflect(bind=conn)\n",
    "    ventas=metadata.tables.get(\"ventas\")\n",
    "    orden=metadata.tables.get(\"order\")\n",
    "    wine=metadata.tables.get(\"wine\")\n",
    "    time=metadata.tables.get(\"time\")\n",
    "    clase=metadata.tables.get(\"class\")\n",
    "    \n",
    "    id_tipo_vino = select([clase.c.Code]).where(and_(\n",
    "                                                ventas.c.Id_wine == wine.c.Code,\\\n",
    "                                                wine.c.Class == clase.c.Code,\\\n",
    "                                                clase.c.Name == nombre_tipo_vino)).\\\n",
    "                                                correlate(clase).limit(1) \n",
    "    \n",
    "    #porque en la bd tenemos mas de un mismo tipo de vino como consecuencia del generador de datos\n",
    "    \n",
    "    consulta_temporadas = select([clase.c.Code,time.c.Year,func.count(clase.c.Code).label(\"quantity\") ]).\\\n",
    "                                                        where( and_(ventas.c.Id_order == orden.c.Code,\\\n",
    "                                                        orden.c.Id_time == time.c.Id,\\\n",
    "                                                        orden.c.Id_wine == wine.c.Code,\\\n",
    "                                                        wine.c.Class == id_tipo_vino)).\\\n",
    "                                                        group_by(clase.c.Code,time.c.Year).\\\n",
    "                                                        order_by(desc(\"quantity\"))\n",
    "    \n",
    "    result = conn.execute(consulta_temporadas).fetchall()\n",
    "    #Se transforma en un data frame el resultado de la consulta.\n",
    "    df = pd.DataFrame(result)\n",
    "    print (df)\n",
    "\n",
    "buscar_vino_en_temporada()"
   ]
  },
  {
   "cell_type": "code",
   "execution_count": null,
   "metadata": {
    "collapsed": false
   },
   "outputs": [],
   "source": [
    "#Cliente que ha realizado mas compras\n",
    "\n",
    "def buscar_compras_de_clientes():\n",
    "    conn = engine.connect()\n",
    "    metadata = MetaData()\n",
    "    metadata.reflect(bind=conn)\n",
    "    ventas=metadata.tables.get(\"ventas\")\n",
    "    orden=metadata.tables.get(\"order\")\n",
    "    customer=metadata.tables.get(\"customer\")\n",
    "    time=metadata.tables.get(\"time\")\n",
    "    \n",
    "    fecha = date.today() - timedelta(days=365*4)\n",
    "\n",
    "    consulta_temporadas = select([orden.c.Id_customer,func.count(orden.c.Id_customer).label('c1')]).where(and_(\n",
    "                                                      ventas.c.Id_order == orden.c.Code,\n",
    "                                                      orden.c.Id_time == time.c.Id,\n",
    "                                                      time.c.Date >= fecha)).group_by(orden.c.Id_customer)\n",
    "    \n",
    "    result = conn.execute(consulta_temporadas).fetchall()\n",
    "    #Se transforma en un data frame el resultado de la consulta.\n",
    "    df = pd.DataFrame(result, columns=[\"Id_customer\", \"Quantity\"])\n",
    "    print (df)\n",
    "    \n",
    "buscar_compras_de_clientes()"
   ]
  },
  {
   "cell_type": "code",
   "execution_count": null,
   "metadata": {
    "collapsed": true
   },
   "outputs": [],
   "source": []
  }
 ],
 "metadata": {
  "anaconda-cloud": {},
  "kernelspec": {
   "display_name": "Python [Root]",
   "language": "python",
   "name": "Python [Root]"
  },
  "language_info": {
   "codemirror_mode": {
    "name": "ipython",
    "version": 2
   },
   "file_extension": ".py",
   "mimetype": "text/x-python",
   "name": "python",
   "nbconvert_exporter": "python",
   "pygments_lexer": "ipython2",
   "version": "2.7.12"
  }
 },
 "nbformat": 4,
 "nbformat_minor": 0
}
